{
 "cells": [
  {
   "cell_type": "code",
   "execution_count": 5,
   "id": "2bee23e7-01e4-4b25-a1a5-83306445fafb",
   "metadata": {},
   "outputs": [
    {
     "name": "stdout",
     "output_type": "stream",
     "text": [
      "Kelimenin karışık halı: ULONTP\n"
     ]
    },
    {
     "name": "stdin",
     "output_type": "stream",
     "text": [
      "Doğru kelimeyi tahmin edin Pluton\n"
     ]
    },
    {
     "name": "stdout",
     "output_type": "stream",
     "text": [
      "Tebrikler! Buldunuz. \n"
     ]
    }
   ],
   "source": [
    "import random\n",
    "\n",
    "def crossword(word):\n",
    "    mix_let = list(word)\n",
    "    random.shuffle(mix_let)\n",
    "    return ''.join(mix_let)\n",
    "\n",
    "def puzzle():\n",
    "    words = [\"PYTHON\", \"JUPYTER\", \"PLUTON\", \"GOOGLE\", \"ENGLISH\", \"TURKEY\", \"LANGUAGE\", \"ONLINE\", \"STUDY\", \"CHILDREN\", \"CLASSIC\", \"BEGINNER\", \"ABSOLTE\", \"INTERMEDIATE\", \"EVERYDAY\", \"WINDOWS\", \"PROGRAM\"]\n",
    "    choose = random.choice(words)\n",
    "    mix_let = crossword(choose)\n",
    "\n",
    "    print(\"Kelimenin karışık halı:\", mix_let)\n",
    "\n",
    "    try:\n",
    "        guess = input(\"Doğru kelimeyi tahmin edin\").upper()\n",
    "    except EOFError:\n",
    "        print(\"Bu bulmacada rakamsal değer olmadığı için hata aldınız. Lütfen yeniden deneyin.\")\n",
    "        return\n",
    "\n",
    "    if guess == choose:\n",
    "        print(\"Tebrikler! Buldunuz. \")\n",
    "    else:\n",
    "        print(f\"Üzgünüm, doğru kelime '{choose}' idi.\")\n",
    "\n",
    "puzzle()\n",
    "\n",
    "    "
   ]
  },
  {
   "cell_type": "code",
   "execution_count": null,
   "id": "cb12589d-ebfd-48d2-affe-bfca2ed8aa9b",
   "metadata": {},
   "outputs": [],
   "source": []
  }
 ],
 "metadata": {
  "kernelspec": {
   "display_name": "Python 3 (ipykernel)",
   "language": "python",
   "name": "python3"
  },
  "language_info": {
   "codemirror_mode": {
    "name": "ipython",
    "version": 3
   },
   "file_extension": ".py",
   "mimetype": "text/x-python",
   "name": "python",
   "nbconvert_exporter": "python",
   "pygments_lexer": "ipython3",
   "version": "3.11.5"
  }
 },
 "nbformat": 4,
 "nbformat_minor": 5
}
